{
 "cells": [
  {
   "cell_type": "markdown",
   "metadata": {},
   "source": [
    "# Summary \n",
    "Generates the geojson hexes+dissolved cities file.\n",
    "\n",
    "Demonstrates calculation of 50/10 access levels from the NBD map data against arbitrary \n",
    "geometry other than the precomputed hexagons.\n",
    "\n",
    "Calculating this requires joining the geometry from the Canada wide hexagons geometry \n",
    "with the tabular `PHH_Speeds_Current-PHH_Vitesses_Actuelles.csv` dataset. \n",
    "\n",
    "Loading the data and executing the spatial joins takes a total of 7 minutes."
   ]
  },
  {
   "cell_type": "code",
   "execution_count": 1,
   "metadata": {
    "tags": []
   },
   "outputs": [],
   "source": [
    "import sys\n",
    "sys.path.append(\"..\")\n",
    "\n",
    "%load_ext autoreload\n",
    "%autoreload 1\n",
    "%aimport src.datasets.joins\n",
    "%aimport src.datasets.loading.statcan"
   ]
  },
  {
   "cell_type": "code",
   "execution_count": 2,
   "metadata": {
    "tags": []
   },
   "outputs": [],
   "source": [
    "import numpy as np\n",
    "import pandas as pd\n",
    "import matplotlib.pyplot as plt\n",
    "from src.datasets.loading import statcan\n",
    "from src.datasets.loading import ookla\n",
    "from src.datasets import overlays\n",
    "\n",
    "from src.datasets import joins\n",
    "import src"
   ]
  },
  {
   "cell_type": "code",
   "execution_count": 3,
   "metadata": {
    "tags": []
   },
   "outputs": [],
   "source": [
    "popctrs = statcan.boundary('population_centres')"
   ]
  },
  {
   "cell_type": "code",
   "execution_count": 4,
   "metadata": {
    "tags": []
   },
   "outputs": [
    {
     "data": {
      "text/html": [
       "<div>\n",
       "<style scoped>\n",
       "    .dataframe tbody tr th:only-of-type {\n",
       "        vertical-align: middle;\n",
       "    }\n",
       "\n",
       "    .dataframe tbody tr th {\n",
       "        vertical-align: top;\n",
       "    }\n",
       "\n",
       "    .dataframe thead th {\n",
       "        text-align: right;\n",
       "    }\n",
       "</style>\n",
       "<table border=\"1\" class=\"dataframe\">\n",
       "  <thead>\n",
       "    <tr style=\"text-align: right;\">\n",
       "      <th></th>\n",
       "      <th>PCUID</th>\n",
       "      <th>PCNAME</th>\n",
       "      <th>PCTYPE</th>\n",
       "      <th>PCPUID</th>\n",
       "      <th>PCCLASS</th>\n",
       "      <th>PRUID</th>\n",
       "      <th>PRNAME</th>\n",
       "      <th>CMAUID</th>\n",
       "      <th>CMANAME</th>\n",
       "      <th>CMATYPE</th>\n",
       "      <th>CMAPUID</th>\n",
       "      <th>geometry</th>\n",
       "    </tr>\n",
       "  </thead>\n",
       "  <tbody>\n",
       "    <tr>\n",
       "      <th>657</th>\n",
       "      <td>0478</td>\n",
       "      <td>Lloydminster</td>\n",
       "      <td>1</td>\n",
       "      <td>480478</td>\n",
       "      <td>3</td>\n",
       "      <td>48</td>\n",
       "      <td>Alberta</td>\n",
       "      <td>840</td>\n",
       "      <td>Lloydminster (Alberta part / partie de l'Alberta)</td>\n",
       "      <td>D</td>\n",
       "      <td>48840</td>\n",
       "      <td>POLYGON ((5024336.049 2072898.043, 5024239.789...</td>\n",
       "    </tr>\n",
       "    <tr>\n",
       "      <th>774</th>\n",
       "      <td>0478</td>\n",
       "      <td>Lloydminster</td>\n",
       "      <td>1</td>\n",
       "      <td>470478</td>\n",
       "      <td>3</td>\n",
       "      <td>47</td>\n",
       "      <td>Saskatchewan</td>\n",
       "      <td>840</td>\n",
       "      <td>Lloydminster (Saskatchewan part / partie de la...</td>\n",
       "      <td>D</td>\n",
       "      <td>47840</td>\n",
       "      <td>POLYGON ((5024135.374 2071102.100, 5024109.260...</td>\n",
       "    </tr>\n",
       "  </tbody>\n",
       "</table>\n",
       "</div>"
      ],
      "text/plain": [
       "    PCUID        PCNAME PCTYPE  PCPUID PCCLASS PRUID        PRNAME CMAUID   \n",
       "657  0478  Lloydminster      1  480478       3    48       Alberta    840  \\\n",
       "774  0478  Lloydminster      1  470478       3    47  Saskatchewan    840   \n",
       "\n",
       "                                               CMANAME CMATYPE CMAPUID   \n",
       "657  Lloydminster (Alberta part / partie de l'Alberta)       D   48840  \\\n",
       "774  Lloydminster (Saskatchewan part / partie de la...       D   47840   \n",
       "\n",
       "                                              geometry  \n",
       "657  POLYGON ((5024336.049 2072898.043, 5024239.789...  \n",
       "774  POLYGON ((5024135.374 2071102.100, 5024109.260...  "
      ]
     },
     "execution_count": 4,
     "metadata": {},
     "output_type": "execute_result"
    }
   ],
   "source": [
    "popctrs.loc[lambda s:s.PCNAME == \"Lloydminster\"]"
   ]
  },
  {
   "cell_type": "code",
   "execution_count": 5,
   "metadata": {
    "tags": []
   },
   "outputs": [
    {
     "name": "stderr",
     "output_type": "stream",
     "text": [
      "/home/jovyan/src/datasets/overlays.py:25: UserWarning: `keep_geom_type=True` in overlay resulted in 403 dropped geometries of different geometry types than df1 has. Set `keep_geom_type=False` to retain all geometries\n",
      "  ol = gp.overlay(left, right, how=\"union\")\n",
      "/opt/conda/lib/python3.10/site-packages/geopandas/geodataframe.py:1538: SettingWithCopyWarning: \n",
      "A value is trying to be set on a copy of a slice from a DataFrame.\n",
      "Try using .loc[row_indexer,col_indexer] = value instead\n",
      "\n",
      "See the caveats in the documentation: https://pandas.pydata.org/pandas-docs/stable/user_guide/indexing.html#returning-a-view-versus-a-copy\n",
      "  super().__setitem__(key, value)\n"
     ]
    }
   ],
   "source": [
    "custom_areas = joins.hexagons_small_popctrs_combined()\n",
    "o = custom_areas"
   ]
  },
  {
   "cell_type": "code",
   "execution_count": 10,
   "metadata": {},
   "outputs": [
    {
     "data": {
      "text/html": [
       "<div>\n",
       "<style scoped>\n",
       "    .dataframe tbody tr th:only-of-type {\n",
       "        vertical-align: middle;\n",
       "    }\n",
       "\n",
       "    .dataframe tbody tr th {\n",
       "        vertical-align: top;\n",
       "    }\n",
       "\n",
       "    .dataframe thead th {\n",
       "        text-align: right;\n",
       "    }\n",
       "</style>\n",
       "<table border=\"1\" class=\"dataframe\">\n",
       "  <thead>\n",
       "    <tr style=\"text-align: right;\">\n",
       "      <th></th>\n",
       "      <th>PHH_ID</th>\n",
       "      <th>geometry</th>\n",
       "    </tr>\n",
       "  </thead>\n",
       "  <tbody>\n",
       "    <tr>\n",
       "      <th>0</th>\n",
       "      <td>6000070</td>\n",
       "      <td>POINT (4323400.800 2051792.300)</td>\n",
       "    </tr>\n",
       "    <tr>\n",
       "      <th>1</th>\n",
       "      <td>6000145</td>\n",
       "      <td>POINT (3840916.400 2244550.200)</td>\n",
       "    </tr>\n",
       "    <tr>\n",
       "      <th>2</th>\n",
       "      <td>6000146</td>\n",
       "      <td>POINT (3840918.900 2244804.000)</td>\n",
       "    </tr>\n",
       "    <tr>\n",
       "      <th>3</th>\n",
       "      <td>6000147</td>\n",
       "      <td>POINT (3840872.900 2245054.500)</td>\n",
       "    </tr>\n",
       "    <tr>\n",
       "      <th>4</th>\n",
       "      <td>6000148</td>\n",
       "      <td>POINT (3840826.000 2245305.100)</td>\n",
       "    </tr>\n",
       "    <tr>\n",
       "      <th>...</th>\n",
       "      <td>...</td>\n",
       "      <td>...</td>\n",
       "    </tr>\n",
       "    <tr>\n",
       "      <th>5638120</th>\n",
       "      <td>5500282</td>\n",
       "      <td>POINT (8569401.000 2070837.500)</td>\n",
       "    </tr>\n",
       "    <tr>\n",
       "      <th>5638121</th>\n",
       "      <td>5500283</td>\n",
       "      <td>POINT (8770721.600 2052351.000)</td>\n",
       "    </tr>\n",
       "    <tr>\n",
       "      <th>5638122</th>\n",
       "      <td>5501119</td>\n",
       "      <td>POINT (8197377.600 2412728.400)</td>\n",
       "    </tr>\n",
       "    <tr>\n",
       "      <th>5638123</th>\n",
       "      <td>5501153</td>\n",
       "      <td>POINT (8956859.000 2125179.600)</td>\n",
       "    </tr>\n",
       "    <tr>\n",
       "      <th>5638124</th>\n",
       "      <td>5501154</td>\n",
       "      <td>POINT (8957562.900 2122643.400)</td>\n",
       "    </tr>\n",
       "  </tbody>\n",
       "</table>\n",
       "<p>5638125 rows × 2 columns</p>\n",
       "</div>"
      ],
      "text/plain": [
       "          PHH_ID                         geometry\n",
       "0        6000070  POINT (4323400.800 2051792.300)\n",
       "1        6000145  POINT (3840916.400 2244550.200)\n",
       "2        6000146  POINT (3840918.900 2244804.000)\n",
       "3        6000147  POINT (3840872.900 2245054.500)\n",
       "4        6000148  POINT (3840826.000 2245305.100)\n",
       "...          ...                              ...\n",
       "5638120  5500282  POINT (8569401.000 2070837.500)\n",
       "5638121  5500283  POINT (8770721.600 2052351.000)\n",
       "5638122  5501119  POINT (8197377.600 2412728.400)\n",
       "5638123  5501153  POINT (8956859.000 2125179.600)\n",
       "5638124  5501154  POINT (8957562.900 2122643.400)\n",
       "\n",
       "[5638125 rows x 2 columns]"
      ]
     },
     "execution_count": 10,
     "metadata": {},
     "output_type": "execute_result"
    }
   ],
   "source": [
    "statcan.phh_hex_data"
   ]
  },
  {
   "cell_type": "code",
   "execution_count": 11,
   "metadata": {},
   "outputs": [],
   "source": [
    "phh = statcan.phh_geometry().merge(statcan.phh_data(), on='PHH_ID')\n",
    "phh = phh.loc[lambda s:s.Type !=8] # drop PHH nulls"
   ]
  },
  {
   "cell_type": "code",
   "execution_count": 12,
   "metadata": {},
   "outputs": [],
   "source": [
    "o = joins.add_phh_pop(custom_areas, phh, 'HEXUID_PCPUID')"
   ]
  },
  {
   "cell_type": "code",
   "execution_count": null,
   "metadata": {
    "tags": []
   },
   "outputs": [],
   "source": [
    "del o['HEXuid_HEXidu'] # we don't want these, they're quite long in large cities"
   ]
  },
  {
   "cell_type": "code",
   "execution_count": null,
   "metadata": {
    "tags": []
   },
   "outputs": [],
   "source": [
    "popctrs = statcan.boundary('population_centres') # use this to generate a filtering region around cities"
   ]
  },
  {
   "cell_type": "code",
   "execution_count": null,
   "metadata": {
    "tags": []
   },
   "outputs": [],
   "source": [
    "#Can't plot the whole country, too many hexagons.\n",
    "xmin, ymin, xmax, ymax = popctrs.loc[lambda s:s.PCNAME==\"Lloydminster\"].buffer(100000).total_bounds\n",
    "o.cx[xmin:xmax,ymin:ymax].loc[lambda s:(s['Pop2016'] > 0) | (s['TDwell2016_TLog2016'] > 0) | (s['URDwell2016_RH2016']>0)].explore('Pop_Avail_50_10',  scheme='equalinterval', k = 4,)"
   ]
  },
  {
   "cell_type": "code",
   "execution_count": null,
   "metadata": {
    "tags": []
   },
   "outputs": [],
   "source": [
    "zeroable_cols = [\n",
    "    'Pop2016', 'TDwell2016_TLog2016', 'URDwell2016_RH2016',\n",
    "    'Pop2016_at_50_10_Combined', 'TDwell2016_at_50_10_Combined',\n",
    "    'URDwell_at_50_10_Combined'\n",
    "       ]\n",
    "o[zeroable_cols] = o[zeroable_cols].fillna(0)"
   ]
  },
  {
   "cell_type": "code",
   "execution_count": null,
   "metadata": {
    "tags": []
   },
   "outputs": [],
   "source": [
    "o"
   ]
  },
  {
   "cell_type": "code",
   "execution_count": null,
   "metadata": {
    "tags": []
   },
   "outputs": [],
   "source": [
    "from pathlib import Path\n",
    "from src import config"
   ]
  },
  {
   "cell_type": "code",
   "execution_count": null,
   "metadata": {
    "tags": []
   },
   "outputs": [],
   "source": [
    "derived_geometry = (Path(src.config.DATA_DIRECTORY) / 'processed' / 'geometries').resolve()\n",
    "derived_geometry.mkdir(exist_ok=True, parents=True)\n",
    "\n",
    "o.to_crs(\"EPSG:4326\").to_file(derived_geometry / 'hexagons_w_dissolved_smaller_popctrs.geojson', driver='GeoJSON')"
   ]
  },
  {
   "cell_type": "code",
   "execution_count": null,
   "metadata": {
    "tags": []
   },
   "outputs": [],
   "source": [
    "o.to_file(derived_geometry / 'hexagons_w_dissolved_smaller_popctrs', driver=\"MapInfo File\")"
   ]
  },
  {
   "cell_type": "code",
   "execution_count": null,
   "metadata": {},
   "outputs": [],
   "source": []
  }
 ],
 "metadata": {
  "kernelspec": {
   "display_name": "Python 3 (ipykernel)",
   "language": "python",
   "name": "python3"
  },
  "language_info": {
   "codemirror_mode": {
    "name": "ipython",
    "version": 3
   },
   "file_extension": ".py",
   "mimetype": "text/x-python",
   "name": "python",
   "nbconvert_exporter": "python",
   "pygments_lexer": "ipython3",
   "version": "3.10.10"
  },
  "vscode": {
   "interpreter": {
    "hash": "7baa5682b3ee41d95f3e6c53f6f101854543f295d881c00164f5d254f1692751"
   }
  }
 },
 "nbformat": 4,
 "nbformat_minor": 4
}
